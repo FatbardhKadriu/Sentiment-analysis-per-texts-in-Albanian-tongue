{
 "cells": [
  {
   "cell_type": "markdown",
   "metadata": {},
   "source": [
    "## Import the required libraries"
   ]
  },
  {
   "cell_type": "code",
   "execution_count": 1,
   "metadata": {},
   "outputs": [],
   "source": [
    "import warnings\n",
    "warnings.filterwarnings(\"ignore\")\n",
    "\n",
    "import numpy as np\n",
    "import pandas as pd\n",
    "\n",
    "from keras import layers\n",
    "from keras.models import Model, Sequential\n",
    "from keras.layers import Dense, Dropout, Activation, LSTM\n",
    "from keras.layers import Input, Flatten, merge, Lambda, Dropout\n",
    "from keras.wrappers.scikit_learn import KerasClassifier\n",
    "from keras.layers.wrappers import TimeDistributed, Bidirectional\n",
    "from keras.utils import np_utils, to_categorical\n",
    "from keras.optimizers import Adam, RMSprop\n",
    "from keras.layers import Conv1D, MaxPooling1D, Embedding\n",
    "from keras.preprocessing.text import Tokenizer\n",
    "from keras.preprocessing.sequence import pad_sequences\n",
    "from keras.layers import Conv1D, MaxPooling1D, Embedding\n",
    "from keras.layers.normalization import BatchNormalization\n",
    "\n",
    "from sklearn.model_selection import train_test_split, KFold, GridSearchCV, StratifiedShuffleSplit,StratifiedKFold\n",
    "from sklearn.metrics import confusion_matrix, classification_report, accuracy_score\n",
    "from sklearn.preprocessing import LabelEncoder\n",
    "from sklearn.pipeline import Pipeline\n",
    "from sklearn.feature_extraction.text import TfidfVectorizer, CountVectorizer\n",
    "\n",
    "import gensim\n",
    "from gensim.models import Word2Vec\n",
    "from gensim.utils import simple_preprocess\n",
    "\n",
    "from gensim.models.keyedvectors import KeyedVectors\n",
    "\n",
    "import matplotlib.pyplot as plt\n",
    "import itertools\n",
    "\n",
    "from nltk.stem.wordnet import WordNetLemmatizer\n",
    "from nltk.tokenize import RegexpTokenizer\n",
    "\n",
    "from sklearn.utils import shuffle\n",
    "\n",
    "import re"
   ]
  },
  {
   "cell_type": "markdown",
   "metadata": {},
   "source": [
    "## Load the dataset"
   ]
  },
  {
   "cell_type": "code",
   "execution_count": 2,
   "metadata": {},
   "outputs": [],
   "source": [
    "data = pd.read_csv(\"trainset.csv\")\n",
    "comments = data['Komenti']\n",
    "y = data['Sentimenti']"
   ]
  },
  {
   "cell_type": "markdown",
   "metadata": {},
   "source": [
    "## Input parameters"
   ]
  },
  {
   "cell_type": "code",
   "execution_count": 3,
   "metadata": {},
   "outputs": [],
   "source": [
    "MAX_SEQUENCE_LENGTH = 20\n",
    "MAX_NB_WORDS = 6000\n",
    "EMBEDDING_DIM = 300"
   ]
  },
  {
   "cell_type": "markdown",
   "metadata": {},
   "source": [
    "## Data preprocessing"
   ]
  },
  {
   "cell_type": "code",
   "execution_count": 4,
   "metadata": {},
   "outputs": [],
   "source": [
    "def preprocess_text(sen):\n",
    "\n",
    "    sentence = sen\n",
    "    # Remove everything except a-z, A-Z, + sign and chars like Ë, ë, Ç, ç\n",
    "    sentence = re.sub('[^a-zA-Z0-9\\+ËëÇç]', ' ', sentence)\n",
    "\n",
    "    # Removing multiple spaces\n",
    "    sentence = re.sub(r'\\s+', ' ', sentence)\n",
    "\n",
    "    return sentence"
   ]
  },
  {
   "cell_type": "markdown",
   "metadata": {},
   "source": [
    "### Fill list with preprocessed text"
   ]
  },
  {
   "cell_type": "code",
   "execution_count": 5,
   "metadata": {},
   "outputs": [],
   "source": [
    "docs = []\n",
    "for sen in comments:\n",
    "    docs.append(preprocess_text(sen))"
   ]
  },
  {
   "cell_type": "markdown",
   "metadata": {},
   "source": [
    "## Encode class values as integers "
   ]
  },
  {
   "cell_type": "code",
   "execution_count": 6,
   "metadata": {},
   "outputs": [],
   "source": [
    "encoder = LabelEncoder()\n",
    "\n",
    "encoder.fit(y) # encoder.fit([1, 1, 2, 6]) LabaleEncoder()\n",
    "# encoder.classes_ \n",
    "# array([1, 2, 6])\n",
    "\n",
    "# In our case\n",
    "# encoder.classes_   \n",
    "# array([0, 1, 2], dtype=int64)\n",
    "\n",
    "encoded_y = encoder.transform(y)\n",
    "# array([0, 0, 1, 2]...)\n",
    "\n",
    "# encoder.inverse_transform([0, 0, 1, 2])\n",
    "# array([1, 1, 2, 6])\n",
    "\n",
    "# convert integers to dummy variables (i.e. one hot encoded)\n",
    "dummy_y = np_utils.to_categorical(encoded_y)\n",
    "# Converts a class vector(integers) to binary class matrix.\n",
    "# E.g. for use with categorical_crossentropy.\n",
    "# Arguments: \n",
    "    # y: class vector to be converted into a matrix(integers from 0 to num_classes)\n",
    "    # Returns a binary matrix representation of the input. The classes axis is placed last\n",
    "# Example:\n",
    "    # a = tf.keras.utils_to_categorical([0, 1, 2, 3], num_classes=4)\n",
    "    # a = tf.constant(a, shape=[4, 4])\n",
    "    # print(a)\n",
    "# tf.Tensor(\n",
    "# [[1. 0. 0. 0.]\n",
    "#  [0. 1. 0. 0.]\n",
    "#  [0. 0. 1. 0.]\n",
    "#  [0. 0. 0. 1.]], shape = (4,4), dtype=float32)"
   ]
  },
  {
   "cell_type": "markdown",
   "metadata": {},
   "source": [
    "## Define plot_history function"
   ]
  },
  {
   "cell_type": "code",
   "execution_count": 7,
   "metadata": {},
   "outputs": [],
   "source": [
    "def plot_history(history):\n",
    "    loss_list = [s for s in history.history.keys() if 'loss' in s and 'val' not in s]\n",
    "    val_loss_list = [s for s in history.history.keys() if 'loss' in s and 'val' in s]\n",
    "    acc_list = [s for s in history.history.keys() if 'acc' in s and 'val' not in s]\n",
    "    val_acc_list = [s for s in history.history.keys() if 'acc' in s and 'val' in s]\n",
    "    \n",
    "    if len(loss_list) == 0:\n",
    "        print('Loss is missing in history')\n",
    "        return \n",
    "    \n",
    "    ## As loss always exists\n",
    "    epochs = range(1,len(history.history[loss_list[0]]) + 1) # range(1, 251) \n",
    "    \n",
    "    ## Loss\n",
    "    plt.figure(1)\n",
    "    for l in loss_list:\n",
    "        plt.plot(epochs, history.history[l], 'b', label='Training loss (' + str(str(format(history.history[l][-1],'.5f'))+')'))\n",
    "    for l in val_loss_list:\n",
    "        plt.plot(epochs, history.history[l], 'g', label='Validation loss (' + str(str(format(history.history[l][-1],'.5f'))+')'))\n",
    "    \n",
    "    plt.title('Loss')\n",
    "    plt.xlabel('Epochs')\n",
    "    plt.ylabel('Loss')\n",
    "    plt.legend()\n",
    "    \n",
    "    ## Accuracy\n",
    "    plt.figure(2)\n",
    "    for l in acc_list:\n",
    "        plt.plot(epochs, history.history[l], 'b', label='Training accuracy (' + str(format(history.history[l][-1],'.5f'))+')')\n",
    "    for l in val_acc_list:    \n",
    "        plt.plot(epochs, history.history[l], 'g', label='Validation accuracy (' + str(format(history.history[l][-1],'.5f'))+')')\n",
    "\n",
    "    plt.title('Accuracy')\n",
    "    plt.xlabel('Epochs')\n",
    "    plt.ylabel('Accuracy')\n",
    "    plt.legend()\n",
    "    plt.show()"
   ]
  },
  {
   "cell_type": "markdown",
   "metadata": {},
   "source": [
    "## Define full_multiclass_report which prints classification report"
   ]
  },
  {
   "cell_type": "code",
   "execution_count": 8,
   "metadata": {},
   "outputs": [],
   "source": [
    "## If binary (sigmoid output), set binary parameter to True\n",
    "def full_multiclass_report(model,\n",
    "                           x,\n",
    "                           y_true,\n",
    "                           classes,\n",
    "                           batch_size = 16,\n",
    "                           binary=False):\n",
    "\n",
    "    # 1. Transform one-hot encoded y_true into their class number\n",
    "    if not binary:\n",
    "        y_true = np.argmax(y_true,axis=1)\n",
    "    \n",
    "    # 2. Predict classes and stores in y_pred\n",
    "    y_pred = model.predict_classes(x, batch_size=batch_size)\n",
    "    \n",
    "    # 3. Print accuracy score\n",
    "    print(\"Accuracy : \"+ str(accuracy_score(y_true,y_pred)))\n",
    "    \n",
    "    print(\"\")\n",
    "    \n",
    "    # 4. Print classification report\n",
    "    print(\"Classification Report\")\n",
    "    print(classification_report(y_true,y_pred,digits=4))    "
   ]
  },
  {
   "cell_type": "markdown",
   "metadata": {},
   "source": [
    "## Create a tokenizer"
   ]
  },
  {
   "cell_type": "code",
   "execution_count": 9,
   "metadata": {},
   "outputs": [
    {
     "name": "stdout",
     "output_type": "stream",
     "text": [
      "Found 6123 unique tokens.\n"
     ]
    }
   ],
   "source": [
    "tokenizer = Tokenizer(nb_words=MAX_NB_WORDS, lower=True )\n",
    "\n",
    "tokenizer.fit_on_texts(docs)\n",
    "\n",
    "sequences = tokenizer.texts_to_sequences(docs)\n",
    "\n",
    "word_index = tokenizer.word_index\n",
    "\n",
    "print('Found %s unique tokens.' % len(word_index))\n",
    "\n",
    "# convert text to sequence of tokens and pad them to ensure equal length vectors \n",
    "x = pad_sequences(sequences, maxlen=MAX_SEQUENCE_LENGTH)"
   ]
  },
  {
   "cell_type": "code",
   "execution_count": 10,
   "metadata": {},
   "outputs": [
    {
     "data": {
      "text/plain": [
       "array([[   0,    0,    0, ...,   70,    1,  608],\n",
       "       [   0,    0,    0, ...,  102,   48, 2144],\n",
       "       [1302,    2,  729, ...,   24,  609, 2148],\n",
       "       ...,\n",
       "       [   0,    0,    0, ...,   58,    5,  324],\n",
       "       [   0,    0,    0, ..., 1530, 1298,   43],\n",
       "       [   0,    0,    0, ...,    0,    0,    0]])"
      ]
     },
     "execution_count": 10,
     "metadata": {},
     "output_type": "execute_result"
    }
   ],
   "source": [
    "x"
   ]
  },
  {
   "cell_type": "markdown",
   "metadata": {},
   "source": [
    "## Training, testing and validation"
   ]
  },
  {
   "cell_type": "code",
   "execution_count": 11,
   "metadata": {},
   "outputs": [],
   "source": [
    "seed = 20\n",
    "\n",
    "x_train, x_test, y_train, y_test = train_test_split(x, dummy_y, train_size=0.8, random_state=seed)\n",
    "\n",
    "x_train, x_val, y_train, y_val = train_test_split(x_train, y_train, train_size=0.7, random_state=seed)"
   ]
  },
  {
   "cell_type": "code",
   "execution_count": 21,
   "metadata": {},
   "outputs": [
    {
     "name": "stdout",
     "output_type": "stream",
     "text": [
      "803\n",
      "345\n",
      "287\n",
      "1435\n"
     ]
    }
   ],
   "source": [
    "print(len(x_train))\n",
    "print(len(x_val))\n",
    "print(len(x_test))\n",
    "print(len(x_train) + len(x_val) + len(x_test))"
   ]
  },
  {
   "cell_type": "markdown",
   "metadata": {},
   "source": [
    "## Generate same results if you don't change parameters"
   ]
  },
  {
   "cell_type": "code",
   "execution_count": 12,
   "metadata": {},
   "outputs": [],
   "source": [
    "from numpy.random import seed\n",
    "\n",
    "seed(1)\n",
    "\n",
    "# from tensorflow import set_random_seed\n",
    "import tensorflow as tf\n",
    "\n",
    "# set_random_seed(2)\n",
    "tf.random.set_seed(2)"
   ]
  },
  {
   "cell_type": "markdown",
   "metadata": {},
   "source": [
    "## Build LSTM Model"
   ]
  },
  {
   "cell_type": "code",
   "execution_count": 13,
   "metadata": {},
   "outputs": [
    {
     "name": "stdout",
     "output_type": "stream",
     "text": [
      "Model: \"sequential\"\n",
      "_________________________________________________________________\n",
      "Layer (type)                 Output Shape              Param #   \n",
      "=================================================================\n",
      "embedding (Embedding)        (None, 20, 300)           1836900   \n",
      "_________________________________________________________________\n",
      "lstm (LSTM)                  (None, 32)                42624     \n",
      "_________________________________________________________________\n",
      "dense (Dense)                (None, 32)                1056      \n",
      "_________________________________________________________________\n",
      "dense_1 (Dense)              (None, 3)                 99        \n",
      "=================================================================\n",
      "Total params: 1,880,679\n",
      "Trainable params: 1,880,679\n",
      "Non-trainable params: 0\n",
      "_________________________________________________________________\n",
      "None\n"
     ]
    }
   ],
   "source": [
    "LSTM_model = Sequential()\n",
    "\n",
    "LSTM_model.add(Embedding(len(word_index), EMBEDDING_DIM, input_length =x.shape[1]))\n",
    "\n",
    "LSTM_model.add(LSTM(32))\n",
    "\n",
    "LSTM_model.add(Dense(32,activation='relu'))\n",
    "LSTM_model.add(Dense(3,activation='softmax'))\n",
    "\n",
    "LSTM_model.compile(loss = 'categorical_crossentropy', optimizer='adam',metrics = ['accuracy'])\n",
    "\n",
    "print(LSTM_model.summary())"
   ]
  },
  {
   "cell_type": "markdown",
   "metadata": {},
   "source": [
    "## Evaluate model"
   ]
  },
  {
   "cell_type": "code",
   "execution_count": 14,
   "metadata": {},
   "outputs": [
    {
     "name": "stdout",
     "output_type": "stream",
     "text": [
      "Epoch 1/100\n",
      "51/51 - 2s - loss: 1.0121 - accuracy: 0.5093 - val_loss: 0.9433 - val_accuracy: 0.5449\n",
      "Epoch 2/100\n",
      "51/51 - 1s - loss: 0.8332 - accuracy: 0.6364 - val_loss: 0.8865 - val_accuracy: 0.5797\n",
      "Epoch 3/100\n",
      "51/51 - 1s - loss: 0.4781 - accuracy: 0.8269 - val_loss: 0.9359 - val_accuracy: 0.6029\n",
      "Epoch 4/100\n",
      "51/51 - 1s - loss: 0.1680 - accuracy: 0.9552 - val_loss: 1.1641 - val_accuracy: 0.6435\n",
      "Epoch 5/100\n",
      "51/51 - 1s - loss: 0.0586 - accuracy: 0.9838 - val_loss: 1.3422 - val_accuracy: 0.6319\n",
      "Epoch 6/100\n",
      "51/51 - 1s - loss: 0.0258 - accuracy: 0.9925 - val_loss: 1.6436 - val_accuracy: 0.6348\n",
      "Epoch 7/100\n",
      "51/51 - 1s - loss: 0.0221 - accuracy: 0.9925 - val_loss: 1.6772 - val_accuracy: 0.6232\n",
      "Epoch 8/100\n",
      "51/51 - 1s - loss: 0.0142 - accuracy: 0.9975 - val_loss: 1.7645 - val_accuracy: 0.6377\n",
      "Epoch 9/100\n",
      "51/51 - 1s - loss: 0.0151 - accuracy: 0.9950 - val_loss: 1.8612 - val_accuracy: 0.6377\n",
      "Epoch 10/100\n",
      "51/51 - 1s - loss: 0.0118 - accuracy: 0.9963 - val_loss: 1.8609 - val_accuracy: 0.6406\n",
      "Epoch 11/100\n",
      "51/51 - 1s - loss: 0.0086 - accuracy: 0.9975 - val_loss: 1.9678 - val_accuracy: 0.6406\n",
      "Epoch 12/100\n",
      "51/51 - 1s - loss: 0.0079 - accuracy: 0.9963 - val_loss: 1.9280 - val_accuracy: 0.6319\n",
      "Epoch 13/100\n",
      "51/51 - 1s - loss: 0.0048 - accuracy: 0.9988 - val_loss: 2.1580 - val_accuracy: 0.6435\n",
      "Epoch 14/100\n",
      "51/51 - 1s - loss: 0.0080 - accuracy: 0.9975 - val_loss: 2.0000 - val_accuracy: 0.6174\n",
      "Epoch 15/100\n",
      "51/51 - 1s - loss: 0.0051 - accuracy: 0.9988 - val_loss: 2.1382 - val_accuracy: 0.6290\n",
      "Epoch 16/100\n",
      "51/51 - 1s - loss: 0.0060 - accuracy: 0.9988 - val_loss: 2.1921 - val_accuracy: 0.6348\n",
      "Epoch 17/100\n",
      "51/51 - 1s - loss: 0.0062 - accuracy: 0.9975 - val_loss: 2.3280 - val_accuracy: 0.6319\n",
      "Epoch 18/100\n",
      "51/51 - 1s - loss: 0.0064 - accuracy: 0.9975 - val_loss: 2.1627 - val_accuracy: 0.6203\n",
      "Epoch 19/100\n",
      "51/51 - 1s - loss: 0.0054 - accuracy: 0.9988 - val_loss: 2.2107 - val_accuracy: 0.6290\n",
      "Epoch 20/100\n",
      "51/51 - 1s - loss: 0.0038 - accuracy: 0.9988 - val_loss: 2.3633 - val_accuracy: 0.6319\n",
      "Epoch 21/100\n",
      "51/51 - 1s - loss: 0.0041 - accuracy: 0.9988 - val_loss: 2.2879 - val_accuracy: 0.6290\n",
      "Epoch 22/100\n",
      "51/51 - 1s - loss: 0.0037 - accuracy: 0.9988 - val_loss: 2.3568 - val_accuracy: 0.6406\n",
      "Epoch 23/100\n",
      "51/51 - 1s - loss: 0.0037 - accuracy: 0.9988 - val_loss: 2.3293 - val_accuracy: 0.6290\n",
      "Epoch 24/100\n",
      "51/51 - 1s - loss: 0.0045 - accuracy: 0.9975 - val_loss: 2.3838 - val_accuracy: 0.6290\n",
      "Epoch 25/100\n",
      "51/51 - 1s - loss: 0.0047 - accuracy: 0.9975 - val_loss: 2.4143 - val_accuracy: 0.6319\n",
      "Epoch 26/100\n",
      "51/51 - 1s - loss: 0.0034 - accuracy: 0.9988 - val_loss: 2.4325 - val_accuracy: 0.6348\n",
      "Epoch 27/100\n",
      "51/51 - 1s - loss: 0.0031 - accuracy: 0.9975 - val_loss: 2.5072 - val_accuracy: 0.6319\n",
      "Epoch 28/100\n",
      "51/51 - 1s - loss: 0.0028 - accuracy: 0.9988 - val_loss: 2.5109 - val_accuracy: 0.6290\n",
      "Epoch 29/100\n",
      "51/51 - 1s - loss: 0.0040 - accuracy: 0.9975 - val_loss: 2.5205 - val_accuracy: 0.6319\n",
      "Epoch 30/100\n",
      "51/51 - 1s - loss: 0.0042 - accuracy: 0.9975 - val_loss: 2.5451 - val_accuracy: 0.6435\n",
      "Epoch 31/100\n",
      "51/51 - 1s - loss: 0.0029 - accuracy: 0.9975 - val_loss: 2.5677 - val_accuracy: 0.6232\n",
      "Epoch 32/100\n",
      "51/51 - 1s - loss: 0.0032 - accuracy: 0.9988 - val_loss: 2.6422 - val_accuracy: 0.6348\n",
      "Epoch 33/100\n",
      "51/51 - 1s - loss: 0.0033 - accuracy: 0.9988 - val_loss: 2.5890 - val_accuracy: 0.6232\n",
      "Epoch 34/100\n",
      "51/51 - 1s - loss: 0.0038 - accuracy: 0.9988 - val_loss: 2.5843 - val_accuracy: 0.6203\n",
      "Epoch 35/100\n",
      "51/51 - 1s - loss: 0.0045 - accuracy: 0.9988 - val_loss: 2.5432 - val_accuracy: 0.6145\n",
      "Epoch 36/100\n",
      "51/51 - 1s - loss: 0.0038 - accuracy: 0.9988 - val_loss: 2.5751 - val_accuracy: 0.6203\n",
      "Epoch 37/100\n",
      "51/51 - 1s - loss: 0.0039 - accuracy: 0.9988 - val_loss: 2.6670 - val_accuracy: 0.6290\n",
      "Epoch 38/100\n",
      "51/51 - 1s - loss: 0.0042 - accuracy: 0.9975 - val_loss: 2.5855 - val_accuracy: 0.6174\n",
      "Epoch 39/100\n",
      "51/51 - 1s - loss: 0.0058 - accuracy: 0.9950 - val_loss: 2.7234 - val_accuracy: 0.6174\n",
      "Epoch 40/100\n",
      "51/51 - 1s - loss: 0.0062 - accuracy: 0.9975 - val_loss: 2.5872 - val_accuracy: 0.6232\n",
      "Epoch 41/100\n",
      "51/51 - 1s - loss: 0.0192 - accuracy: 0.9950 - val_loss: 2.6855 - val_accuracy: 0.6000\n",
      "Epoch 42/100\n",
      "51/51 - 1s - loss: 0.0308 - accuracy: 0.9913 - val_loss: 1.6727 - val_accuracy: 0.5855\n",
      "Epoch 43/100\n",
      "51/51 - 1s - loss: 0.0613 - accuracy: 0.9875 - val_loss: 1.7702 - val_accuracy: 0.6174\n",
      "Epoch 44/100\n",
      "51/51 - 1s - loss: 0.0118 - accuracy: 0.9950 - val_loss: 1.7135 - val_accuracy: 0.6406\n",
      "Epoch 45/100\n",
      "51/51 - 1s - loss: 0.0066 - accuracy: 0.9975 - val_loss: 1.9027 - val_accuracy: 0.6377\n",
      "Epoch 46/100\n",
      "51/51 - 1s - loss: 0.0041 - accuracy: 0.9988 - val_loss: 1.9770 - val_accuracy: 0.6406\n",
      "Epoch 47/100\n",
      "51/51 - 1s - loss: 0.0039 - accuracy: 0.9988 - val_loss: 2.0115 - val_accuracy: 0.6377\n",
      "Epoch 48/100\n",
      "51/51 - 1s - loss: 0.0035 - accuracy: 0.9988 - val_loss: 2.0498 - val_accuracy: 0.6348\n",
      "Epoch 49/100\n",
      "51/51 - 1s - loss: 0.0030 - accuracy: 0.9988 - val_loss: 2.0944 - val_accuracy: 0.6348\n",
      "Epoch 50/100\n",
      "51/51 - 1s - loss: 0.0030 - accuracy: 0.9988 - val_loss: 2.1392 - val_accuracy: 0.6377\n",
      "Epoch 51/100\n",
      "51/51 - 1s - loss: 0.0039 - accuracy: 0.9975 - val_loss: 2.1499 - val_accuracy: 0.6319\n",
      "Epoch 52/100\n",
      "51/51 - 1s - loss: 0.0027 - accuracy: 0.9975 - val_loss: 2.2043 - val_accuracy: 0.6377\n",
      "Epoch 53/100\n",
      "51/51 - 1s - loss: 0.0029 - accuracy: 0.9988 - val_loss: 2.2233 - val_accuracy: 0.6319\n",
      "Epoch 54/100\n",
      "51/51 - 1s - loss: 0.0033 - accuracy: 0.9988 - val_loss: 2.2265 - val_accuracy: 0.6348\n",
      "Epoch 55/100\n",
      "51/51 - 1s - loss: 0.0025 - accuracy: 0.9988 - val_loss: 2.2913 - val_accuracy: 0.6348\n",
      "Epoch 56/100\n",
      "51/51 - 2s - loss: 0.0025 - accuracy: 0.9988 - val_loss: 2.3033 - val_accuracy: 0.6319\n",
      "Epoch 57/100\n",
      "51/51 - 1s - loss: 0.0028 - accuracy: 0.9988 - val_loss: 2.3156 - val_accuracy: 0.6319\n",
      "Epoch 58/100\n",
      "51/51 - 1s - loss: 0.0024 - accuracy: 0.9975 - val_loss: 2.3387 - val_accuracy: 0.6290\n",
      "Epoch 59/100\n",
      "51/51 - 1s - loss: 0.0026 - accuracy: 0.9988 - val_loss: 2.3821 - val_accuracy: 0.6290\n",
      "Epoch 60/100\n",
      "51/51 - 1s - loss: 0.0022 - accuracy: 0.9975 - val_loss: 2.4076 - val_accuracy: 0.6261\n",
      "Epoch 61/100\n",
      "51/51 - 1s - loss: 0.0025 - accuracy: 0.9975 - val_loss: 2.4328 - val_accuracy: 0.6290\n",
      "Epoch 62/100\n",
      "51/51 - 1s - loss: 0.0025 - accuracy: 0.9988 - val_loss: 2.4310 - val_accuracy: 0.6290\n",
      "Epoch 63/100\n",
      "51/51 - 1s - loss: 0.0026 - accuracy: 0.9988 - val_loss: 2.4474 - val_accuracy: 0.6290\n",
      "Epoch 64/100\n",
      "51/51 - 1s - loss: 0.0025 - accuracy: 0.9988 - val_loss: 2.4932 - val_accuracy: 0.6290\n",
      "Epoch 65/100\n",
      "51/51 - 1s - loss: 0.0025 - accuracy: 0.9975 - val_loss: 2.5044 - val_accuracy: 0.6290\n",
      "Epoch 66/100\n",
      "51/51 - 1s - loss: 0.0024 - accuracy: 0.9975 - val_loss: 2.4606 - val_accuracy: 0.6319\n",
      "Epoch 67/100\n",
      "51/51 - 1s - loss: 0.0022 - accuracy: 0.9988 - val_loss: 2.4946 - val_accuracy: 0.6348\n",
      "Epoch 68/100\n",
      "51/51 - 1s - loss: 0.0021 - accuracy: 0.9975 - val_loss: 2.5553 - val_accuracy: 0.6261\n",
      "Epoch 69/100\n",
      "51/51 - 1s - loss: 0.0026 - accuracy: 0.9975 - val_loss: 2.5625 - val_accuracy: 0.6261\n",
      "Epoch 70/100\n",
      "51/51 - 1s - loss: 0.0028 - accuracy: 0.9988 - val_loss: 2.5757 - val_accuracy: 0.6290\n",
      "Epoch 71/100\n",
      "51/51 - 1s - loss: 0.0022 - accuracy: 0.9975 - val_loss: 2.5333 - val_accuracy: 0.6348\n",
      "Epoch 72/100\n",
      "51/51 - 1s - loss: 0.0024 - accuracy: 0.9988 - val_loss: 2.5893 - val_accuracy: 0.6290\n",
      "Epoch 73/100\n",
      "51/51 - 2s - loss: 0.0026 - accuracy: 0.9988 - val_loss: 2.5621 - val_accuracy: 0.6348\n",
      "Epoch 74/100\n",
      "51/51 - 1s - loss: 0.0027 - accuracy: 0.9975 - val_loss: 2.5966 - val_accuracy: 0.6290\n",
      "Epoch 75/100\n",
      "51/51 - 1s - loss: 0.0026 - accuracy: 0.9975 - val_loss: 2.5820 - val_accuracy: 0.6348\n",
      "Epoch 76/100\n",
      "51/51 - 1s - loss: 0.0020 - accuracy: 0.9988 - val_loss: 2.6227 - val_accuracy: 0.6348\n",
      "Epoch 77/100\n",
      "51/51 - 1s - loss: 0.0026 - accuracy: 0.9975 - val_loss: 2.6309 - val_accuracy: 0.6348\n",
      "Epoch 78/100\n",
      "51/51 - 1s - loss: 0.0025 - accuracy: 0.9975 - val_loss: 2.6605 - val_accuracy: 0.6290\n",
      "Epoch 79/100\n",
      "51/51 - 1s - loss: 0.0021 - accuracy: 0.9975 - val_loss: 2.6976 - val_accuracy: 0.6290\n",
      "Epoch 80/100\n",
      "51/51 - 1s - loss: 0.0027 - accuracy: 0.9975 - val_loss: 2.6625 - val_accuracy: 0.6348\n",
      "Epoch 81/100\n",
      "51/51 - 1s - loss: 0.0023 - accuracy: 0.9988 - val_loss: 2.6937 - val_accuracy: 0.6348\n",
      "Epoch 82/100\n",
      "51/51 - 1s - loss: 0.0025 - accuracy: 0.9988 - val_loss: 2.7131 - val_accuracy: 0.6290\n",
      "Epoch 83/100\n"
     ]
    },
    {
     "name": "stdout",
     "output_type": "stream",
     "text": [
      "51/51 - 1s - loss: 0.0024 - accuracy: 0.9975 - val_loss: 2.7296 - val_accuracy: 0.6290\n",
      "Epoch 84/100\n",
      "51/51 - 1s - loss: 0.0026 - accuracy: 0.9988 - val_loss: 2.7069 - val_accuracy: 0.6348\n",
      "Epoch 85/100\n",
      "51/51 - 1s - loss: 0.0026 - accuracy: 0.9988 - val_loss: 2.7350 - val_accuracy: 0.6319\n",
      "Epoch 86/100\n",
      "51/51 - 1s - loss: 0.0022 - accuracy: 0.9975 - val_loss: 2.7596 - val_accuracy: 0.6319\n",
      "Epoch 87/100\n",
      "51/51 - 1s - loss: 0.0025 - accuracy: 0.9988 - val_loss: 2.7517 - val_accuracy: 0.6348\n",
      "Epoch 88/100\n",
      "51/51 - 1s - loss: 0.0023 - accuracy: 0.9988 - val_loss: 2.7685 - val_accuracy: 0.6348\n",
      "Epoch 89/100\n",
      "51/51 - 1s - loss: 0.0025 - accuracy: 0.9988 - val_loss: 2.8240 - val_accuracy: 0.6290\n",
      "Epoch 90/100\n",
      "51/51 - 1s - loss: 0.0024 - accuracy: 0.9988 - val_loss: 2.7798 - val_accuracy: 0.6348\n",
      "Epoch 91/100\n",
      "51/51 - 1s - loss: 0.0022 - accuracy: 0.9975 - val_loss: 2.7926 - val_accuracy: 0.6348\n",
      "Epoch 92/100\n",
      "51/51 - 1s - loss: 0.0023 - accuracy: 0.9975 - val_loss: 2.8433 - val_accuracy: 0.6319\n",
      "Epoch 93/100\n",
      "51/51 - 2s - loss: 0.0019 - accuracy: 0.9988 - val_loss: 2.8034 - val_accuracy: 0.6319\n",
      "Epoch 94/100\n",
      "51/51 - 1s - loss: 0.0025 - accuracy: 0.9975 - val_loss: 2.8152 - val_accuracy: 0.6348\n",
      "Epoch 95/100\n",
      "51/51 - 2s - loss: 0.0020 - accuracy: 0.9988 - val_loss: 2.8601 - val_accuracy: 0.6319\n",
      "Epoch 96/100\n",
      "51/51 - 1s - loss: 0.0023 - accuracy: 0.9988 - val_loss: 2.8876 - val_accuracy: 0.6290\n",
      "Epoch 97/100\n",
      "51/51 - 1s - loss: 0.0024 - accuracy: 0.9975 - val_loss: 2.9063 - val_accuracy: 0.6290\n",
      "Epoch 98/100\n",
      "51/51 - 1s - loss: 0.0020 - accuracy: 0.9988 - val_loss: 2.9054 - val_accuracy: 0.6319\n",
      "Epoch 99/100\n",
      "51/51 - 1s - loss: 0.0023 - accuracy: 0.9988 - val_loss: 2.8970 - val_accuracy: 0.6319\n",
      "Epoch 100/100\n",
      "51/51 - 1s - loss: 0.0025 - accuracy: 0.9988 - val_loss: 2.8858 - val_accuracy: 0.6348\n"
     ]
    }
   ],
   "source": [
    "LSTMHistory=LSTM_model.fit(x_train, y_train, epochs = 100, batch_size = 16,verbose=2, \n",
    "                           validation_data=(x_val,y_val), shuffle=True)"
   ]
  },
  {
   "cell_type": "code",
   "execution_count": 17,
   "metadata": {},
   "outputs": [
    {
     "name": "stdout",
     "output_type": "stream",
     "text": [
      "Help on method fit in module tensorflow.python.keras.engine.training:\n",
      "\n",
      "fit(x=None, y=None, batch_size=None, epochs=1, verbose=1, callbacks=None, validation_split=0.0, validation_data=None, shuffle=True, class_weight=None, sample_weight=None, initial_epoch=0, steps_per_epoch=None, validation_steps=None, validation_batch_size=None, validation_freq=1, max_queue_size=10, workers=1, use_multiprocessing=False) method of tensorflow.python.keras.engine.sequential.Sequential instance\n",
      "    Trains the model for a fixed number of epochs (iterations on a dataset).\n",
      "    \n",
      "    Arguments:\n",
      "        x: Input data. It could be:\n",
      "          - A Numpy array (or array-like), or a list of arrays\n",
      "            (in case the model has multiple inputs).\n",
      "          - A TensorFlow tensor, or a list of tensors\n",
      "            (in case the model has multiple inputs).\n",
      "          - A dict mapping input names to the corresponding array/tensors,\n",
      "            if the model has named inputs.\n",
      "          - A `tf.data` dataset. Should return a tuple\n",
      "            of either `(inputs, targets)` or\n",
      "            `(inputs, targets, sample_weights)`.\n",
      "          - A generator or `keras.utils.Sequence` returning `(inputs, targets)`\n",
      "            or `(inputs, targets, sample_weights)`.\n",
      "          A more detailed description of unpacking behavior for iterator types\n",
      "          (Dataset, generator, Sequence) is given below.\n",
      "        y: Target data. Like the input data `x`,\n",
      "          it could be either Numpy array(s) or TensorFlow tensor(s).\n",
      "          It should be consistent with `x` (you cannot have Numpy inputs and\n",
      "          tensor targets, or inversely). If `x` is a dataset, generator,\n",
      "          or `keras.utils.Sequence` instance, `y` should\n",
      "          not be specified (since targets will be obtained from `x`).\n",
      "        batch_size: Integer or `None`.\n",
      "            Number of samples per gradient update.\n",
      "            If unspecified, `batch_size` will default to 32.\n",
      "            Do not specify the `batch_size` if your data is in the\n",
      "            form of datasets, generators, or `keras.utils.Sequence` instances\n",
      "            (since they generate batches).\n",
      "        epochs: Integer. Number of epochs to train the model.\n",
      "            An epoch is an iteration over the entire `x` and `y`\n",
      "            data provided.\n",
      "            Note that in conjunction with `initial_epoch`,\n",
      "            `epochs` is to be understood as \"final epoch\".\n",
      "            The model is not trained for a number of iterations\n",
      "            given by `epochs`, but merely until the epoch\n",
      "            of index `epochs` is reached.\n",
      "        verbose: 0, 1, or 2. Verbosity mode.\n",
      "            0 = silent, 1 = progress bar, 2 = one line per epoch.\n",
      "            Note that the progress bar is not particularly useful when\n",
      "            logged to a file, so verbose=2 is recommended when not running\n",
      "            interactively (eg, in a production environment).\n",
      "        callbacks: List of `keras.callbacks.Callback` instances.\n",
      "            List of callbacks to apply during training.\n",
      "            See `tf.keras.callbacks`.\n",
      "        validation_split: Float between 0 and 1.\n",
      "            Fraction of the training data to be used as validation data.\n",
      "            The model will set apart this fraction of the training data,\n",
      "            will not train on it, and will evaluate\n",
      "            the loss and any model metrics\n",
      "            on this data at the end of each epoch.\n",
      "            The validation data is selected from the last samples\n",
      "            in the `x` and `y` data provided, before shuffling. This argument is\n",
      "            not supported when `x` is a dataset, generator or\n",
      "           `keras.utils.Sequence` instance.\n",
      "        validation_data: Data on which to evaluate\n",
      "            the loss and any model metrics at the end of each epoch.\n",
      "            The model will not be trained on this data. Thus, note the fact\n",
      "            that the validation loss of data provided using `validation_split`\n",
      "            or `validation_data` is not affected by regularization layers like\n",
      "            noise and dropuout.\n",
      "            `validation_data` will override `validation_split`.\n",
      "            `validation_data` could be:\n",
      "              - tuple `(x_val, y_val)` of Numpy arrays or tensors\n",
      "              - tuple `(x_val, y_val, val_sample_weights)` of Numpy arrays\n",
      "              - dataset\n",
      "            For the first two cases, `batch_size` must be provided.\n",
      "            For the last case, `validation_steps` could be provided.\n",
      "            Note that `validation_data` does not support all the data types that\n",
      "            are supported in `x`, eg, dict, generator or `keras.utils.Sequence`.\n",
      "        shuffle: Boolean (whether to shuffle the training data\n",
      "            before each epoch) or str (for 'batch'). This argument is ignored\n",
      "            when `x` is a generator. 'batch' is a special option for dealing\n",
      "            with the limitations of HDF5 data; it shuffles in batch-sized\n",
      "            chunks. Has no effect when `steps_per_epoch` is not `None`.\n",
      "        class_weight: Optional dictionary mapping class indices (integers)\n",
      "            to a weight (float) value, used for weighting the loss function\n",
      "            (during training only).\n",
      "            This can be useful to tell the model to\n",
      "            \"pay more attention\" to samples from\n",
      "            an under-represented class.\n",
      "        sample_weight: Optional Numpy array of weights for\n",
      "            the training samples, used for weighting the loss function\n",
      "            (during training only). You can either pass a flat (1D)\n",
      "            Numpy array with the same length as the input samples\n",
      "            (1:1 mapping between weights and samples),\n",
      "            or in the case of temporal data,\n",
      "            you can pass a 2D array with shape\n",
      "            `(samples, sequence_length)`,\n",
      "            to apply a different weight to every timestep of every sample. This\n",
      "            argument is not supported when `x` is a dataset, generator, or\n",
      "           `keras.utils.Sequence` instance, instead provide the sample_weights\n",
      "            as the third element of `x`.\n",
      "        initial_epoch: Integer.\n",
      "            Epoch at which to start training\n",
      "            (useful for resuming a previous training run).\n",
      "        steps_per_epoch: Integer or `None`.\n",
      "            Total number of steps (batches of samples)\n",
      "            before declaring one epoch finished and starting the\n",
      "            next epoch. When training with input tensors such as\n",
      "            TensorFlow data tensors, the default `None` is equal to\n",
      "            the number of samples in your dataset divided by\n",
      "            the batch size, or 1 if that cannot be determined. If x is a\n",
      "            `tf.data` dataset, and 'steps_per_epoch'\n",
      "            is None, the epoch will run until the input dataset is exhausted.\n",
      "            When passing an infinitely repeating dataset, you must specify the\n",
      "            `steps_per_epoch` argument. This argument is not supported with\n",
      "            array inputs.\n",
      "        validation_steps: Only relevant if `validation_data` is provided and\n",
      "            is a `tf.data` dataset. Total number of steps (batches of\n",
      "            samples) to draw before stopping when performing validation\n",
      "            at the end of every epoch. If 'validation_steps' is None, validation\n",
      "            will run until the `validation_data` dataset is exhausted. In the\n",
      "            case of an infinitely repeated dataset, it will run into an\n",
      "            infinite loop. If 'validation_steps' is specified and only part of\n",
      "            the dataset will be consumed, the evaluation will start from the\n",
      "            beginning of the dataset at each epoch. This ensures that the same\n",
      "            validation samples are used every time.\n",
      "        validation_batch_size: Integer or `None`.\n",
      "            Number of samples per validation batch.\n",
      "            If unspecified, will default to `batch_size`.\n",
      "            Do not specify the `validation_batch_size` if your data is in the\n",
      "            form of datasets, generators, or `keras.utils.Sequence` instances\n",
      "            (since they generate batches).\n",
      "        validation_freq: Only relevant if validation data is provided. Integer\n",
      "            or `collections_abc.Container` instance (e.g. list, tuple, etc.).\n",
      "            If an integer, specifies how many training epochs to run before a\n",
      "            new validation run is performed, e.g. `validation_freq=2` runs\n",
      "            validation every 2 epochs. If a Container, specifies the epochs on\n",
      "            which to run validation, e.g. `validation_freq=[1, 2, 10]` runs\n",
      "            validation at the end of the 1st, 2nd, and 10th epochs.\n",
      "        max_queue_size: Integer. Used for generator or `keras.utils.Sequence`\n",
      "            input only. Maximum size for the generator queue.\n",
      "            If unspecified, `max_queue_size` will default to 10.\n",
      "        workers: Integer. Used for generator or `keras.utils.Sequence` input\n",
      "            only. Maximum number of processes to spin up\n",
      "            when using process-based threading. If unspecified, `workers`\n",
      "            will default to 1. If 0, will execute the generator on the main\n",
      "            thread.\n",
      "        use_multiprocessing: Boolean. Used for generator or\n",
      "            `keras.utils.Sequence` input only. If `True`, use process-based\n",
      "            threading. If unspecified, `use_multiprocessing` will default to\n",
      "            `False`. Note that because this implementation relies on\n",
      "            multiprocessing, you should not pass non-picklable arguments to\n",
      "            the generator as they can't be passed easily to children processes.\n",
      "    \n",
      "    Unpacking behavior for iterator-like inputs:\n",
      "        A common pattern is to pass a tf.data.Dataset, generator, or\n",
      "      tf.keras.utils.Sequence to the `x` argument of fit, which will in fact\n",
      "      yield not only features (x) but optionally targets (y) and sample weights.\n",
      "      Keras requires that the output of such iterator-likes be unambiguous. The\n",
      "      iterator should return a tuple of length 1, 2, or 3, where the optional\n",
      "      second and third elements will be used for y and sample_weight\n",
      "      respectively. Any other type provided will be wrapped in a length one\n",
      "      tuple, effectively treating everything as 'x'. When yielding dicts, they\n",
      "      should still adhere to the top-level tuple structure.\n",
      "      e.g. `({\"x0\": x0, \"x1\": x1}, y)`. Keras will not attempt to separate\n",
      "      features, targets, and weights from the keys of a single dict.\n",
      "        A notable unsupported data type is the namedtuple. The reason is that\n",
      "      it behaves like both an ordered datatype (tuple) and a mapping\n",
      "      datatype (dict). So given a namedtuple of the form:\n",
      "          `namedtuple(\"example_tuple\", [\"y\", \"x\"])`\n",
      "      it is ambiguous whether to reverse the order of the elements when\n",
      "      interpreting the value. Even worse is a tuple of the form:\n",
      "          `namedtuple(\"other_tuple\", [\"x\", \"y\", \"z\"])`\n",
      "      where it is unclear if the tuple was intended to be unpacked into x, y,\n",
      "      and sample_weight or passed through as a single element to `x`. As a\n",
      "      result the data processing code will simply raise a ValueError if it\n",
      "      encounters a namedtuple. (Along with instructions to remedy the issue.)\n",
      "    \n",
      "    Returns:\n",
      "        A `History` object. Its `History.history` attribute is\n",
      "        a record of training loss values and metrics values\n",
      "        at successive epochs, as well as validation loss values\n",
      "        and validation metrics values (if applicable).\n",
      "    \n",
      "    Raises:\n",
      "        RuntimeError: 1. If the model was never compiled or,\n",
      "        2. If `model.fit` is  wrapped in `tf.function`.\n",
      "    \n",
      "        ValueError: In case of mismatch between the provided input data\n",
      "            and what the model expects.\n",
      "\n"
     ]
    }
   ],
   "source": [
    "help(LSTM_model.fit)"
   ]
  },
  {
   "cell_type": "markdown",
   "metadata": {},
   "source": [
    "## Print results"
   ]
  },
  {
   "cell_type": "code",
   "execution_count": 15,
   "metadata": {},
   "outputs": [
    {
     "data": {
      "image/png": "[encoded data removed]",
      "text/plain": [
       "<Figure size 432x288 with 1 Axes>"
      ]
     },
     "metadata": {
      "needs_background": "light"
     },
     "output_type": "display_data"
    },
    {
     "data": {
      "image/png": "[encoded data removed]",
      "text/plain": [
       "<Figure size 432x288 with 1 Axes>"
      ]
     },
     "metadata": {
      "needs_background": "light"
     },
     "output_type": "display_data"
    }
   ],
   "source": [
    "plot_history(LSTMHistory)"
   ]
  },
  {
   "cell_type": "code",
   "execution_count": 16,
   "metadata": {
    "scrolled": true
   },
   "outputs": [
    {
     "name": "stdout",
     "output_type": "stream",
     "text": [
      "WARNING:tensorflow:From <ipython-input-8-42749f64df89>:14: Sequential.predict_classes (from tensorflow.python.keras.engine.sequential) is deprecated and will be removed after 2021-01-01.\n",
      "Instructions for updating:\n",
      "Please use instead:* `np.argmax(model.predict(x), axis=-1)`,   if your model does multi-class classification   (e.g. if it uses a `softmax` last-layer activation).* `(model.predict(x) > 0.5).astype(\"int32\")`,   if your model does binary classification   (e.g. if it uses a `sigmoid` last-layer activation).\n",
      "Accuracy : 0.6347826086956522\n",
      "\n",
      "Classification Report\n",
      "              precision    recall  f1-score   support\n",
      "\n",
      "           0     0.6390    0.8462    0.7281       182\n",
      "           1     0.5600    0.3684    0.4444        38\n",
      "           2     0.6456    0.4080    0.5000       125\n",
      "\n",
      "    accuracy                         0.6348       345\n",
      "   macro avg     0.6149    0.5409    0.5575       345\n",
      "weighted avg     0.6327    0.6348    0.6142       345\n",
      "\n"
     ]
    }
   ],
   "source": [
    "full_multiclass_report(LSTM_model, x_val, y_val, encoder.inverse_transform(np.arange(3)))"
   ]
  }
 ],
 "metadata": {
  "kernelspec": {
   "display_name": "Python 3",
   "language": "python",
   "name": "python3"
  },
  "language_info": {
   "codemirror_mode": {
    "name": "ipython",
    "version": 3
   },
   "file_extension": ".py",
   "mimetype": "text/x-python",
   "name": "python",
   "nbconvert_exporter": "python",
   "pygments_lexer": "ipython3",
   "version": "3.8.3"
  }
 },
 "nbformat": 4,
 "nbformat_minor": 4
}
