{
 "cells": [
  {
   "cell_type": "markdown",
   "metadata": {},
   "source": [
    "#### Importimi i librarive"
   ]
  },
  {
   "cell_type": "code",
   "execution_count": 1,
   "metadata": {},
   "outputs": [],
   "source": [
    "import pandas as pd\n",
    "import numpy as np\n",
    "#Calculate pearson correlation \n",
    "from scipy.stats import pearsonr\n",
    "#Calculate spearman correlation\n",
    "from scipy.stats import spearmanr\n",
    "\n",
    "#per mi paraqit grafikisht\n",
    "import matplotlib.pyplot as plt\n",
    "import seaborn as sns"
   ]
  },
  {
   "cell_type": "code",
   "execution_count": 2,
   "metadata": {},
   "outputs": [],
   "source": [
    "data = pd.read_csv(\"train.csv\")\n",
    "\n",
    "#Remove missing values.\n",
    "data = data.dropna()\n",
    "\n",
    "data = data.rename(columns={'Vleresimi(F. Kadriu)': 'Vlerësuesi: Fatbardh Kadriu', 'Vleresimi(F. Gashi)': 'Vlerësuesi: Fatbardh Gashi', 'Vleresimi(A. Musa)': 'Vlerësuesi: Arbena Musa'})\n",
    "data.drop(['Id', 'Emri i komentuesit', 'Comment timestamp', 'Post timestamp', 'Like', 'URL'], axis='columns', inplace=True)"
   ]
  },
  {
   "cell_type": "code",
   "execution_count": 3,
   "metadata": {
    "scrolled": true
   },
   "outputs": [
    {
     "data": {
      "text/html": [
       "<div>\n",
       "<style scoped>\n",
       "    .dataframe tbody tr th:only-of-type {\n",
       "        vertical-align: middle;\n",
       "    }\n",
       "\n",
       "    .dataframe tbody tr th {\n",
       "        vertical-align: top;\n",
       "    }\n",
       "\n",
       "    .dataframe thead th {\n",
       "        text-align: right;\n",
       "    }\n",
       "</style>\n",
       "<table border=\"1\" class=\"dataframe\">\n",
       "  <thead>\n",
       "    <tr style=\"text-align: right;\">\n",
       "      <th></th>\n",
       "      <th>Komenti</th>\n",
       "      <th>Vlerësuesi: Fatbardh Kadriu</th>\n",
       "      <th>Vlerësuesi: Fatbardh Gashi</th>\n",
       "      <th>Vlerësuesi: Arbena Musa</th>\n",
       "    </tr>\n",
       "  </thead>\n",
       "  <tbody>\n",
       "    <tr>\n",
       "      <th>130</th>\n",
       "      <td>Kjamet</td>\n",
       "      <td>2.0</td>\n",
       "      <td>2.0</td>\n",
       "      <td>2.0</td>\n",
       "    </tr>\n",
       "    <tr>\n",
       "      <th>131</th>\n",
       "      <td>So keq sa per fillim</td>\n",
       "      <td>1.0</td>\n",
       "      <td>1.0</td>\n",
       "      <td>1.0</td>\n",
       "    </tr>\n",
       "    <tr>\n",
       "      <th>132</th>\n",
       "      <td>Gilanin mdoket pe harroni kejt</td>\n",
       "      <td>0.0</td>\n",
       "      <td>0.0</td>\n",
       "      <td>2.0</td>\n",
       "    </tr>\n",
       "    <tr>\n",
       "      <th>133</th>\n",
       "      <td>Ni pytje per juve a jeni ne dijeni qe personat...</td>\n",
       "      <td>2.0</td>\n",
       "      <td>2.0</td>\n",
       "      <td>2.0</td>\n",
       "    </tr>\n",
       "  </tbody>\n",
       "</table>\n",
       "</div>"
      ],
      "text/plain": [
       "                                               Komenti  \\\n",
       "130                                            Kjamet    \n",
       "131                               So keq sa per fillim   \n",
       "132                     Gilanin mdoket pe harroni kejt   \n",
       "133  Ni pytje per juve a jeni ne dijeni qe personat...   \n",
       "\n",
       "     Vlerësuesi: Fatbardh Kadriu  Vlerësuesi: Fatbardh Gashi  \\\n",
       "130                          2.0                         2.0   \n",
       "131                          1.0                         1.0   \n",
       "132                          0.0                         0.0   \n",
       "133                          2.0                         2.0   \n",
       "\n",
       "     Vlerësuesi: Arbena Musa  \n",
       "130                      2.0  \n",
       "131                      1.0  \n",
       "132                      2.0  \n",
       "133                      2.0  "
      ]
     },
     "execution_count": 3,
     "metadata": {},
     "output_type": "execute_result"
    }
   ],
   "source": [
    "# Shfaqja e rreshtave prej 130 deri 134 \n",
    "data.head(n=134)[130:]\n",
    "\n",
    "#Shfaqja e 5 rreshtave te fundit\n",
    "#data.tail()"
   ]
  },
  {
   "cell_type": "code",
   "execution_count": 4,
   "metadata": {},
   "outputs": [
    {
     "data": {
      "text/plain": [
       "(1435, 4)"
      ]
     },
     "execution_count": 4,
     "metadata": {},
     "output_type": "execute_result"
    }
   ],
   "source": [
    "data = data.rename(columns={'Vlerësuesi: Fatbardh Kadriu': 'Vlerësuesi 1', 'Vlerësuesi: Fatbardh Gashi': 'Vlerësuesi 2', 'Vlerësuesi: Arbena Musa': 'Vlerësuesi 3'})\n",
    "vleresimet = data[['Vlerësuesi 1', 'Vlerësuesi 2', 'Vlerësuesi 3']]\n",
    "\n",
    "data.shape # Kthen liste te tipit (numri i rreshtave, numri i kolonave)"
   ]
  },
  {
   "cell_type": "code",
   "execution_count": 5,
   "metadata": {},
   "outputs": [
    {
     "name": "stdout",
     "output_type": "stream",
     "text": [
      "Vlerësuesi: Fatbardh Kadriuor\n",
      "Vleresime pozitive: 276\n",
      "Vleresime negative: 536\n",
      "Vleresime neutrale: 623\n"
     ]
    }
   ],
   "source": [
    "#Vleresimi 1\n",
    "print(\"Vlerësuesi: Fatbardh Kadriuor\")\n",
    "print(\"Vleresime pozitive:\", (data['Vlerësuesi 1'] == 1).sum())\n",
    "print(\"Vleresime negative:\", (data['Vlerësuesi 1'] == 2).sum())\n",
    "print(\"Vleresime neutrale:\", (data['Vlerësuesi 1'] == 0).sum())"
   ]
  },
  {
   "cell_type": "code",
   "execution_count": 6,
   "metadata": {},
   "outputs": [
    {
     "data": {
      "text/plain": [
       "Text(0.5, 1.0, 'Fatbardh Kadriu')"
      ]
     },
     "execution_count": 6,
     "metadata": {},
     "output_type": "execute_result"
    },
    {
     "data": {
      "image/png": "[encoded data removed]",
      "text/plain": [
       "<Figure size 410.4x410.4 with 1 Axes>"
      ]
     },
     "metadata": {},
     "output_type": "display_data"
    }
   ],
   "source": [
    "data['Vlerësuesi 1'].value_counts().plot.pie(autopct='%1.1f%%',figsize=(5.7,5.7),\n",
    "                                                     labels=['Neutrale', 'Negative', 'Pozitive'],\n",
    "                                                    colors = ( \"#F1C40F\", \"#E74C3C\", \"#2ECC71\"))\n",
    "plt.title('Fatbardh Kadriu')"
   ]
  },
  {
   "cell_type": "code",
   "execution_count": 7,
   "metadata": {},
   "outputs": [
    {
     "name": "stdout",
     "output_type": "stream",
     "text": [
      "Vlerësuesi: Fatbardh Gashi\n",
      "Vleresime pozitive: 133\n",
      "Vleresime negative: 397\n",
      "Vleresime neutrale: 905\n"
     ]
    }
   ],
   "source": [
    "#Vleresimi 2\n",
    "print(\"Vlerësuesi: Fatbardh Gashi\")\n",
    "print(\"Vleresime pozitive:\", (data['Vlerësuesi 2'] == 1).sum())\n",
    "print(\"Vleresime negative:\", (data['Vlerësuesi 2'] == 2).sum())\n",
    "print(\"Vleresime neutrale:\", (data['Vlerësuesi 2'] == 0).sum())"
   ]
  },
  {
   "cell_type": "code",
   "execution_count": 8,
   "metadata": {},
   "outputs": [
    {
     "data": {
      "text/plain": [
       "Text(0.5, 1.0, 'Fatbardh Gashi')"
      ]
     },
     "execution_count": 8,
     "metadata": {},
     "output_type": "execute_result"
    },
    {
     "data": {
      "image/png": "[encoded data removed]",
      "text/plain": [
       "<Figure size 410.4x410.4 with 1 Axes>"
      ]
     },
     "metadata": {},
     "output_type": "display_data"
    }
   ],
   "source": [
    "data['Vlerësuesi 2'].value_counts().plot.pie(autopct='%1.1f%%',figsize=(5.7,5.7),\n",
    "                                                     labels=['Neutrale', 'Negative', 'Pozitive'],\n",
    "                                                    colors = ( \"#F1C40F\", \"#E74C3C\", \"#2ECC71\"))\n",
    "plt.title('Fatbardh Gashi')"
   ]
  },
  {
   "cell_type": "code",
   "execution_count": 9,
   "metadata": {},
   "outputs": [
    {
     "name": "stdout",
     "output_type": "stream",
     "text": [
      "Vlerësuesi: Arbena Musa\n",
      "Vleresime pozitive: 185\n",
      "Vleresime negative: 715\n",
      "Vleresime neutrale: 535\n"
     ]
    }
   ],
   "source": [
    "#Vleresimi 3\n",
    "print(\"Vlerësuesi: Arbena Musa\")\n",
    "print(\"Vleresime pozitive:\", (data['Vlerësuesi 3'] == 1).sum())\n",
    "print(\"Vleresime negative:\", (data['Vlerësuesi 3'] == 2).sum())\n",
    "print(\"Vleresime neutrale:\", (data['Vlerësuesi 3'] == 0).sum())"
   ]
  },
  {
   "cell_type": "code",
   "execution_count": 10,
   "metadata": {},
   "outputs": [
    {
     "data": {
      "text/plain": [
       "Text(0.5, 1.0, 'Arbena Musa')"
      ]
     },
     "execution_count": 10,
     "metadata": {},
     "output_type": "execute_result"
    },
    {
     "data": {
      "image/png": "[encoded data removed]",
      "text/plain": [
       "<Figure size 410.4x410.4 with 1 Axes>"
      ]
     },
     "metadata": {},
     "output_type": "display_data"
    }
   ],
   "source": [
    "data['Vlerësuesi 3'].value_counts().plot.pie(autopct='%1.1f%%',figsize=(5.7,5.7),\n",
    "                                                     labels=['Negative', 'Neutrale', 'Pozitive'],\n",
    "                                                    colors = ( \"#E74C3C\", \"#F1C40F\", \"#2ECC71\"))\n",
    "plt.title(\"Arbena Musa\")"
   ]
  },
  {
   "cell_type": "code",
   "execution_count": 11,
   "metadata": {},
   "outputs": [
    {
     "name": "stdout",
     "output_type": "stream",
     "text": [
      "Vlerësime të njëjta Vlerësuesi 1 me Vlerësuesin 2 -> 1028 nga 1435\n",
      "Vlerësime të njëjta Vlerësuesi 1 me Vlerësuesin 3 -> 937 nga 1435\n",
      "Vlerësime të njejtë Vlerësuesi 2 me Vlerësuesin 3 -> 914 nga 1435\n"
     ]
    }
   ],
   "source": [
    "print(\"Vlerësime të njëjta Vlerësuesi 1 me Vlerësuesin 2 ->\",\n",
    "     (data['Vlerësuesi 1'] == data['Vlerësuesi 2']).sum(),\n",
    "      \"nga\",\n",
    "      data.shape[0])\n",
    "\n",
    "print(\"Vlerësime të njëjta Vlerësuesi 1 me Vlerësuesin 3 ->\",\n",
    "     (data['Vlerësuesi 1'] == data['Vlerësuesi 3']).sum(),\n",
    "      \"nga\",\n",
    "      data.shape[0])\n",
    "\n",
    "print(\"Vlerësime të njejtë Vlerësuesi 2 me Vlerësuesin 3 ->\", \n",
    "      (data['Vlerësuesi 2'] == data['Vlerësuesi 3']).sum(), \n",
    "      \"nga\", \n",
    "      data.shape[0])"
   ]
  },
  {
   "cell_type": "markdown",
   "metadata": {},
   "source": [
    "# Pearson's Correlation"
   ]
  },
  {
   "cell_type": "markdown",
   "metadata": {},
   "source": [
    "### Vlerësuesi 1 vs 2"
   ]
  },
  {
   "cell_type": "code",
   "execution_count": 12,
   "metadata": {
    "scrolled": true,
    "tags": []
   },
   "outputs": [
    {
     "name": "stdout",
     "output_type": "stream",
     "text": [
      "Pearson's corroleation në mes Vlerësuesit 1 dhe Vlerësuesit 2 është  0.5327671537760319\n"
     ]
    }
   ],
   "source": [
    "corr, _ = pearsonr(data['Vlerësuesi 1'],\n",
    "                   data['Vlerësuesi 2'])\n",
    "print(\"Pearson's corroleation në mes Vlerësuesit 1 dhe Vlerësuesit 2 është \", corr)"
   ]
  },
  {
   "cell_type": "markdown",
   "metadata": {},
   "source": [
    "### Vlerësuesi 1 vs 3"
   ]
  },
  {
   "cell_type": "code",
   "execution_count": 13,
   "metadata": {},
   "outputs": [
    {
     "name": "stdout",
     "output_type": "stream",
     "text": [
      "Pearson's corroleation në mes Vlerësuesit 1 dhe Vlerësuesit 3 është  0.4175727496008779\n"
     ]
    }
   ],
   "source": [
    "corr1, _ = pearsonr(data['Vlerësuesi 1'],\n",
    "                   data['Vlerësuesi 3'])\n",
    "print(\"Pearson's corroleation në mes Vlerësuesit 1 dhe Vlerësuesit 3 është \", corr1)"
   ]
  },
  {
   "cell_type": "markdown",
   "metadata": {},
   "source": [
    "### Vlerësuesi 2 vs 3"
   ]
  },
  {
   "cell_type": "code",
   "execution_count": 14,
   "metadata": {},
   "outputs": [
    {
     "name": "stdout",
     "output_type": "stream",
     "text": [
      "Pearson's corroleation në mes Vlerësuesit 2 dhe Vlerësuesit 3 është  0.4198326017650549\n"
     ]
    }
   ],
   "source": [
    "corr2, _ = pearsonr(data['Vlerësuesi 2'],\n",
    "                   data['Vlerësuesi 3'])\n",
    "print(\"Pearson's corroleation në mes Vlerësuesit 2 dhe Vlerësuesit 3 është \", corr2)"
   ]
  },
  {
   "cell_type": "markdown",
   "metadata": {},
   "source": [
    "# Spearman's Correlation"
   ]
  },
  {
   "cell_type": "markdown",
   "metadata": {},
   "source": [
    "### Vlerësuesi 1 vs 2"
   ]
  },
  {
   "cell_type": "code",
   "execution_count": 15,
   "metadata": {},
   "outputs": [
    {
     "name": "stdout",
     "output_type": "stream",
     "text": [
      "Spearman's corroleation në mes Vlerësuesit 1 dhe Vlerësuesit 2 është  0.5241949370279608\n"
     ]
    }
   ],
   "source": [
    "corr3, _ = spearmanr(data['Vlerësuesi 1'],\n",
    "                     data['Vlerësuesi 2'])\n",
    "print(\"Spearman's corroleation në mes Vlerësuesit 1 dhe Vlerësuesit 2 është \", corr3)"
   ]
  },
  {
   "cell_type": "markdown",
   "metadata": {},
   "source": [
    "### Vlerësuesi 1 vs 3"
   ]
  },
  {
   "cell_type": "code",
   "execution_count": 16,
   "metadata": {},
   "outputs": [
    {
     "name": "stdout",
     "output_type": "stream",
     "text": [
      "Spearman's corroleation në mes Vlerësuesit 1 dhe Vlerësuesit 3 është  0.41167560073069104\n"
     ]
    }
   ],
   "source": [
    "corr4, _ = spearmanr(data['Vlerësuesi 1'],\n",
    "                     data['Vlerësuesi 3'])\n",
    "print(\"Spearman's corroleation në mes Vlerësuesit 1 dhe Vlerësuesit 3 është \", corr4)"
   ]
  },
  {
   "cell_type": "markdown",
   "metadata": {},
   "source": [
    "### Vlerësuesi 2 vs 3"
   ]
  },
  {
   "cell_type": "code",
   "execution_count": 17,
   "metadata": {},
   "outputs": [
    {
     "name": "stdout",
     "output_type": "stream",
     "text": [
      "Spearman's corroleation në mes Vlerësuesit 2 dhe Vlerësuesit 3 është  0.4002331868812734\n"
     ]
    }
   ],
   "source": [
    "corr5, _ = spearmanr(data['Vlerësuesi 2'],\n",
    "                     data['Vlerësuesi 3'])\n",
    "print(\"Spearman's corroleation në mes Vlerësuesit 2 dhe Vlerësuesit 3 është \", corr5)"
   ]
  },
  {
   "cell_type": "code",
   "execution_count": 18,
   "metadata": {},
   "outputs": [
    {
     "data": {
      "text/html": [
       "<div>\n",
       "<style scoped>\n",
       "    .dataframe tbody tr th:only-of-type {\n",
       "        vertical-align: middle;\n",
       "    }\n",
       "\n",
       "    .dataframe tbody tr th {\n",
       "        vertical-align: top;\n",
       "    }\n",
       "\n",
       "    .dataframe thead th {\n",
       "        text-align: right;\n",
       "    }\n",
       "</style>\n",
       "<table border=\"1\" class=\"dataframe\">\n",
       "  <thead>\n",
       "    <tr style=\"text-align: right;\">\n",
       "      <th></th>\n",
       "      <th>Vlerësuesi 1</th>\n",
       "      <th>Vlerësuesi 2</th>\n",
       "      <th>Vlerësuesi 3</th>\n",
       "    </tr>\n",
       "  </thead>\n",
       "  <tbody>\n",
       "    <tr>\n",
       "      <th>Vlerësuesi 1</th>\n",
       "      <td>1.000000</td>\n",
       "      <td>0.532767</td>\n",
       "      <td>0.417573</td>\n",
       "    </tr>\n",
       "    <tr>\n",
       "      <th>Vlerësuesi 2</th>\n",
       "      <td>0.532767</td>\n",
       "      <td>1.000000</td>\n",
       "      <td>0.419833</td>\n",
       "    </tr>\n",
       "    <tr>\n",
       "      <th>Vlerësuesi 3</th>\n",
       "      <td>0.417573</td>\n",
       "      <td>0.419833</td>\n",
       "      <td>1.000000</td>\n",
       "    </tr>\n",
       "  </tbody>\n",
       "</table>\n",
       "</div>"
      ],
      "text/plain": [
       "              Vlerësuesi 1  Vlerësuesi 2  Vlerësuesi 3\n",
       "Vlerësuesi 1      1.000000      0.532767      0.417573\n",
       "Vlerësuesi 2      0.532767      1.000000      0.419833\n",
       "Vlerësuesi 3      0.417573      0.419833      1.000000"
      ]
     },
     "execution_count": 18,
     "metadata": {},
     "output_type": "execute_result"
    }
   ],
   "source": [
    "vleresimet.corr()"
   ]
  },
  {
   "cell_type": "code",
   "execution_count": 19,
   "metadata": {},
   "outputs": [
    {
     "data": {
      "image/png": "[encoded data removed]",
      "text/plain": [
       "<Figure size 432x288 with 2 Axes>"
      ]
     },
     "metadata": {
      "needs_background": "light"
     },
     "output_type": "display_data"
    }
   ],
   "source": [
    "# plt.matshow(vleresimet.corr())\n",
    "# plt.xticks(range(len(vleresimet.columns)), vleresimet.columns)\n",
    "# plt.yticks(range(len(vleresimet.columns)), vleresimet.columns)\n",
    "# plt.colorbar()\n",
    "# plt.show()\n",
    "corrMatrix = vleresimet.corr()\n",
    "sns.heatmap(corrMatrix, annot=True)\n",
    "plt.show()"
   ]
  },
  {
   "cell_type": "markdown",
   "metadata": {},
   "source": [
    "# Nxjerrja e vleresimit final nga 3 vleresimet"
   ]
  },
  {
   "cell_type": "code",
   "execution_count": 20,
   "metadata": {},
   "outputs": [],
   "source": [
    "# I kthejme ne array vlerat e te tri kolonave\n",
    "x = data['Vlerësuesi 1'].values # type(x) -> <class 'numpy.ndarray'>\n",
    "y = data['Vlerësuesi 2'].values  # type(y) -> <class 'numpy.ndarray'>\n",
    "z = data['Vlerësuesi 3'].values   # type(z) -> <class 'numpy.ndarray'>\n",
    "\n",
    "newValues = [] # type(newValues) -> <class 'list'>\n",
    "for i in range(0, len(x)):\n",
    "    if(x[i] == y[i] or x[i] == z[i]):\n",
    "        newValues.append(x[i])\n",
    "    elif(y[i] == x[i] or y[i] == z[i]):\n",
    "        newValues.append(y[i])\n",
    "    elif(z[i] == x[i] or z[i] == y[i]):\n",
    "        newValues.append(z[i])\n",
    "    else:\n",
    "        newValues.append(0)\n",
    "\n",
    "data['Sentimenti'] = newValues\n",
    "data.to_csv(\"trainset.csv\", index=False)"
   ]
  },
  {
   "cell_type": "markdown",
   "metadata": {},
   "source": [
    "## Dataseti me vleresimin final "
   ]
  },
  {
   "cell_type": "code",
   "execution_count": 21,
   "metadata": {},
   "outputs": [],
   "source": [
    "trainset = pd.read_csv(\"trainset.csv\")\n",
    "trainset.drop([#'Id', 'Emri i komentuesit', 'Like', \n",
    "               #'Comment timestamp', 'Post timestamp', \n",
    "               #'URL',\n",
    "              'Vlerësuesi 1', \n",
    "              'Vlerësuesi 2', \n",
    "              'Vlerësuesi 3'], axis='columns', inplace=True)"
   ]
  },
  {
   "cell_type": "code",
   "execution_count": 22,
   "metadata": {},
   "outputs": [
    {
     "data": {
      "text/html": [
       "<div>\n",
       "<style scoped>\n",
       "    .dataframe tbody tr th:only-of-type {\n",
       "        vertical-align: middle;\n",
       "    }\n",
       "\n",
       "    .dataframe tbody tr th {\n",
       "        vertical-align: top;\n",
       "    }\n",
       "\n",
       "    .dataframe thead th {\n",
       "        text-align: right;\n",
       "    }\n",
       "</style>\n",
       "<table border=\"1\" class=\"dataframe\">\n",
       "  <thead>\n",
       "    <tr style=\"text-align: right;\">\n",
       "      <th></th>\n",
       "      <th>Komenti</th>\n",
       "      <th>Sentimenti</th>\n",
       "    </tr>\n",
       "  </thead>\n",
       "  <tbody>\n",
       "    <tr>\n",
       "      <th>130</th>\n",
       "      <td>Kjamet</td>\n",
       "      <td>2.0</td>\n",
       "    </tr>\n",
       "    <tr>\n",
       "      <th>131</th>\n",
       "      <td>So keq sa per fillim</td>\n",
       "      <td>1.0</td>\n",
       "    </tr>\n",
       "    <tr>\n",
       "      <th>132</th>\n",
       "      <td>Gilanin mdoket pe harroni kejt</td>\n",
       "      <td>0.0</td>\n",
       "    </tr>\n",
       "    <tr>\n",
       "      <th>133</th>\n",
       "      <td>Ni pytje per juve a jeni ne dijeni qe personat...</td>\n",
       "      <td>2.0</td>\n",
       "    </tr>\n",
       "  </tbody>\n",
       "</table>\n",
       "</div>"
      ],
      "text/plain": [
       "                                               Komenti  Sentimenti\n",
       "130                                            Kjamet          2.0\n",
       "131                               So keq sa per fillim         1.0\n",
       "132                     Gilanin mdoket pe harroni kejt         0.0\n",
       "133  Ni pytje per juve a jeni ne dijeni qe personat...         2.0"
      ]
     },
     "execution_count": 22,
     "metadata": {},
     "output_type": "execute_result"
    }
   ],
   "source": [
    "trainset.head(n=134)[130:]"
   ]
  },
  {
   "cell_type": "code",
   "execution_count": 23,
   "metadata": {},
   "outputs": [
    {
     "name": "stdout",
     "output_type": "stream",
     "text": [
      "Sentimenti (Vlerësimi final): \n",
      "Vlerësime pozitive: 177\n",
      "Vlerësime negative: 522\n",
      "Vlerësime neutrale: 736\n",
      "Vlerësime totale: 1435\n"
     ]
    }
   ],
   "source": [
    "#Sentimenti\n",
    "print(\"Sentimenti (Vlerësimi final): \")\n",
    "print(\"Vlerësime pozitive:\", (trainset['Sentimenti'] == 1).sum())\n",
    "print(\"Vlerësime negative:\", (trainset['Sentimenti'] == 2).sum())\n",
    "print(\"Vlerësime neutrale:\", (trainset['Sentimenti'] == 0).sum())\n",
    "print(\"Vlerësime totale:\", (trainset['Sentimenti']).count())"
   ]
  },
  {
   "cell_type": "code",
   "execution_count": 24,
   "metadata": {},
   "outputs": [
    {
     "data": {
      "text/plain": [
       "Text(0.5, 1.0, 'Sentimenti')"
      ]
     },
     "execution_count": 24,
     "metadata": {},
     "output_type": "execute_result"
    },
    {
     "data": {
      "image/png": "[encoded data removed]",
      "text/plain": [
       "<Figure size 410.4x410.4 with 1 Axes>"
      ]
     },
     "metadata": {},
     "output_type": "display_data"
    }
   ],
   "source": [
    "trainset['Sentimenti'].value_counts().plot.pie(autopct='%1.1f%%',figsize=(5.7,5.7),\n",
    "                                                     labels=['Neutrale', 'Negative', 'Pozitive'],\n",
    "                                                    colors = ( \"#F1C40F\", \"#E74C3C\", \"#2ECC71\"))\n",
    "plt.title('Sentimenti')"
   ]
  },
  {
   "cell_type": "code",
   "execution_count": 25,
   "metadata": {},
   "outputs": [
    {
     "data": {
      "text/plain": [
       "<matplotlib.axes._subplots.AxesSubplot at 0x23bbd329d00>"
      ]
     },
     "execution_count": 25,
     "metadata": {},
     "output_type": "execute_result"
    },
    {
     "data": {
      "image/png": "[encoded data removed]",
      "text/plain": [
       "<Figure size 432x288 with 1 Axes>"
      ]
     },
     "metadata": {
      "needs_background": "light"
     },
     "output_type": "display_data"
    }
   ],
   "source": [
    "import seaborn as sns\n",
    "\n",
    "sns.countplot(y='Sentimenti', data=trainset, palette=['#03A0FF', '#00FF00', '#FF0000'])"
   ]
  },
  {
   "cell_type": "code",
   "execution_count": 26,
   "metadata": {},
   "outputs": [
    {
     "data": {
      "text/plain": [
       "(1435, 2)"
      ]
     },
     "execution_count": 26,
     "metadata": {},
     "output_type": "execute_result"
    }
   ],
   "source": [
    "trainset.shape"
   ]
  }
 ],
 "metadata": {
  "kernelspec": {
   "display_name": "Python 3",
   "language": "python",
   "name": "python3"
  },
  "language_info": {
   "codemirror_mode": {
    "name": "ipython",
    "version": 3
   },
   "file_extension": ".py",
   "mimetype": "text/x-python",
   "name": "python",
   "nbconvert_exporter": "python",
   "pygments_lexer": "ipython3",
   "version": "3.8.3"
  }
 },
 "nbformat": 4,
 "nbformat_minor": 4
}
